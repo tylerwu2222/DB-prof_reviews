{
 "cells": [
  {
   "cell_type": "code",
   "execution_count": 48,
   "metadata": {
    "id": "5Hbys6wVkDh3"
   },
   "outputs": [],
   "source": [
    "import requests\n",
    "from bs4 import BeautifulSoup\n",
    "import csv\n",
    "import re"
   ]
  },
  {
   "cell_type": "markdown",
   "metadata": {},
   "source": [
    "## open file"
   ]
  },
  {
   "cell_type": "code",
   "execution_count": 60,
   "metadata": {
    "colab": {
     "base_uri": "https://localhost:8080/"
    },
    "id": "IgS6YWY4nLEB",
    "outputId": "9609c0a3-bf38-4533-e80b-528d2658e882"
   },
   "outputs": [
    {
     "data": {
      "text/plain": [
       "86"
      ]
     },
     "execution_count": 60,
     "metadata": {},
     "output_type": "execute_result"
    }
   ],
   "source": [
    "file = open('reviews_50.csv', 'w', encoding='utf8')\n",
    "writer = csv.writer(file)\n",
    "writer.writerow(['Professor', 'Class Code','Class Name','Term Taken','COVID 19 Flag','Date Submitted','Grade','Review'])"
   ]
  },
  {
   "cell_type": "code",
   "execution_count": 58,
   "metadata": {},
   "outputs": [],
   "source": [
    "def scrape_class(class_URL):\n",
    "#     URL = f'https://www.bruinwalk.com/professors/{prof_name}/{prof_class}/'\n",
    "    page = requests.get(class_URL)\n",
    "    soup = BeautifulSoup(page.content, \"html.parser\")\n",
    "    page_num = int(soup.find(\"div\",class_=\"paginator\").find_all(\"span\")[1].text.split(\"of \")[1])\n",
    "    page_num\n",
    "    for i in range(1,page_num+1):\n",
    "#         URL = f'https://www.bruinwalk.com/professors/{prof_name}/{prof_class}/?page=' + str(i) +'#reviews'\n",
    "        URL = class_URL + '?page=' + str(i) + '#reviews'\n",
    "        print('URL', URL)\n",
    "        page = requests.get(URL)\n",
    "        soup = BeautifulSoup(page.content, \"html.parser\")\n",
    "        \n",
    "        professor = soup.find(\"div\",class_=\"professor-info\").text.strip()\n",
    "#         print(professor)\n",
    "        class_code = soup.find(\"div\",class_=\"image small\").text.strip().title()\n",
    "        class_name = soup.find(\"div\",class_=\"hide-for-small-only profile-header row\").find(\"h2\").text.strip()\n",
    "        review_divs = soup.find_all(\"div\", {\"class\": \"review bruinwalk-card\"})\n",
    "        tags_ = soup.find(\"div\",class_=\"tags bruinwalk-card row\").find_all(\"li\",class_=\"tag\")\n",
    "        tags = [tag.text.strip() for tag in tags_]\n",
    "        for div in review_divs:\n",
    "            term_taken = div.find(\"span\", class_=\"term-taken\").text.strip().split(\"\\n\")[1]\n",
    "            try:\n",
    "                covid_flag = term_taken.strip().split(\"\\n\")[3]\n",
    "            except IndexError:\n",
    "                covid_flag = \"Pre COVID-19\"\n",
    "            date_submitted = div.find(\"span\", class_=\"date\").text.strip()\n",
    "            grade = div.find(\"span\", class_=\"grade-received\").text.strip().split(\"\\n\")[1]\n",
    "            review = div.find(\"div\", class_=\"expand-area\").text.strip()\n",
    "            writer.writerow([professor,class_code,class_name,term_taken,covid_flag,date_submitted,grade,review])\n"
   ]
  },
  {
   "cell_type": "code",
   "execution_count": 61,
   "metadata": {},
   "outputs": [
    {
     "name": "stdout",
     "output_type": "stream",
     "text": [
      "Lina Chhun https://www.bruinwalk.com/professors/lina-chhun/\n",
      "URL https://www.bruinwalk.com/professors/lina-chhun/gender-10/?page=1#reviews\n",
      "URL https://www.bruinwalk.com/professors/lina-chhun/gender-185/?page=1#reviews\n",
      "Marianna Chodorowska-Pilch https://www.bruinwalk.com/professors/marianna-chodorowska-pilch/\n",
      "URL https://www.bruinwalk.com/professors/marianna-chodorowska-pilch/polsh-187c/?page=1#reviews\n",
      "URL https://www.bruinwalk.com/professors/marianna-chodorowska-pilch/polsh-187d/?page=1#reviews\n",
      "URL https://www.bruinwalk.com/professors/marianna-chodorowska-pilch/polsh-187g/?page=1#reviews\n",
      "Samantha Acuña https://www.bruinwalk.com/professors/samantha-acuna/\n",
      "URL https://www.bruinwalk.com/professors/samantha-acuna/cluster-60cw/?page=1#reviews\n",
      "Abraham Adhanom https://www.bruinwalk.com/professors/abraham-adhanom/\n",
      "URL https://www.bruinwalk.com/professors/abraham-adhanom/i-a-std-m6a/?page=1#reviews\n",
      "URL https://www.bruinwalk.com/professors/abraham-adhanom/i-a-std-m6b/?page=1#reviews\n",
      "URL https://www.bruinwalk.com/professors/abraham-adhanom/i-a-std-m6c/?page=1#reviews\n",
      "URL https://www.bruinwalk.com/professors/abraham-adhanom/af-amer-m9a/?page=1#reviews\n",
      "URL https://www.bruinwalk.com/professors/abraham-adhanom/af-amer-m9b/?page=1#reviews\n",
      "URL https://www.bruinwalk.com/professors/abraham-adhanom/af-amer-m9c/?page=1#reviews\n",
      "Amanda Elizabeth Apgar https://www.bruinwalk.com/professors/amanda-elizabeth-apgar/\n",
      "URL https://www.bruinwalk.com/professors/amanda-elizabeth-apgar/dis-std-101w/?page=1#reviews\n",
      "URL https://www.bruinwalk.com/professors/amanda-elizabeth-apgar/gender-m121/?page=1#reviews\n",
      "URL https://www.bruinwalk.com/professors/amanda-elizabeth-apgar/dis-std-m121/?page=1#reviews\n",
      "Hannah Appel https://www.bruinwalk.com/professors/hannah-appel/\n",
      "URL https://www.bruinwalk.com/professors/hannah-appel/glbl-st-100b/?page=1#reviews\n",
      "URL https://www.bruinwalk.com/professors/hannah-appel/glbl-st-104/?page=1#reviews\n",
      "URL https://www.bruinwalk.com/professors/hannah-appel/anthro-130/?page=1#reviews\n",
      "URL https://www.bruinwalk.com/professors/hannah-appel/glbl-st-160-1/?page=1#reviews\n",
      "URL https://www.bruinwalk.com/professors/hannah-appel/glbl-st-160-4/?page=1#reviews\n",
      "URL https://www.bruinwalk.com/professors/hannah-appel/glbl-st-191/?page=1#reviews\n",
      "URL https://www.bruinwalk.com/professors/hannah-appel/anthro-283-1/?page=1#reviews\n",
      "URL https://www.bruinwalk.com/professors/hannah-appel/anthro-297/?page=1#reviews\n",
      "URL https://www.bruinwalk.com/professors/hannah-appel/anthro-299/?page=1#reviews\n",
      "Lamia Balafrej https://www.bruinwalk.com/professors/lamia-balafrej/\n",
      "URL https://www.bruinwalk.com/professors/lamia-balafrej/art-his-119a/?page=1#reviews\n",
      "URL https://www.bruinwalk.com/professors/lamia-balafrej/art-his-c120/?page=1#reviews\n",
      "URL https://www.bruinwalk.com/professors/lamia-balafrej/art-his-185-16/?page=1#reviews\n",
      "URL https://www.bruinwalk.com/professors/lamia-balafrej/art-his-185-5/?page=1#reviews\n",
      "URL https://www.bruinwalk.com/professors/lamia-balafrej/art-his-195/?page=1#reviews\n",
      "URL https://www.bruinwalk.com/professors/lamia-balafrej/art-his-c220a/?page=1#reviews\n",
      "URL https://www.bruinwalk.com/professors/lamia-balafrej/art-his-220b/?page=1#reviews\n",
      "Alan Elliott https://www.bruinwalk.com/professors/alan-elliott/\n",
      "URL https://www.bruinwalk.com/professors/alan-elliott/mus-ind-112/?page=1#reviews\n",
      "URL https://www.bruinwalk.com/professors/alan-elliott/msc-ind-112/?page=1#reviews\n",
      "URL https://www.bruinwalk.com/professors/alan-elliott/mus-ind-188/?page=1#reviews\n",
      "Max Flomen https://www.bruinwalk.com/professors/max-flomen/\n",
      "URL https://www.bruinwalk.com/professors/max-flomen/hist-139a/?page=1#reviews\n",
      "URL https://www.bruinwalk.com/professors/max-flomen/hist-149a/?page=1#reviews\n",
      "URL https://www.bruinwalk.com/professors/max-flomen/hist-149b-1/?page=1#reviews\n",
      "URL https://www.bruinwalk.com/professors/max-flomen/hist-153/?page=1#reviews\n",
      "Dounia Fourneau https://www.bruinwalk.com/professors/dounia-fourneau/\n",
      "URL https://www.bruinwalk.com/professors/dounia-fourneau/frnch-2/?page=1#reviews\n",
      "Anurima Banerji https://www.bruinwalk.com/professors/anurima-banerji/\n",
      "URL https://www.bruinwalk.com/professors/anurima-banerji/dance-11/?page=1#reviews\n",
      "URL https://www.bruinwalk.com/professors/anurima-banerji/dance-12-6/?page=1#reviews\n",
      "URL https://www.bruinwalk.com/professors/anurima-banerji/dance-12-1/?page=1#reviews\n",
      "URL https://www.bruinwalk.com/professors/anurima-banerji/dance-44/?page=1#reviews\n",
      "URL https://www.bruinwalk.com/professors/anurima-banerji/dance-45/?page=1#reviews\n",
      "URL https://www.bruinwalk.com/professors/anurima-banerji/wl-arts-45/?page=1#reviews\n",
      "URL https://www.bruinwalk.com/professors/anurima-banerji/wl-arts-101/?page=1#reviews\n",
      "URL https://www.bruinwalk.com/professors/anurima-banerji/dance-101/?page=1#reviews\n",
      "URL https://www.bruinwalk.com/professors/anurima-banerji/dis-std-195ce/?page=1#reviews\n",
      "URL https://www.bruinwalk.com/professors/anurima-banerji/wl-arts-201/?page=1#reviews\n",
      "Steven Bank https://www.bruinwalk.com/professors/steven-bank/\n",
      "URL https://www.bruinwalk.com/professors/steven-bank/ug-law-ug/?page=1#reviews\n",
      "URL https://www.bruinwalk.com/professors/steven-bank/ug-law-19/?page=1#reviews\n",
      "URL https://www.bruinwalk.com/professors/steven-bank/law-220/?page=1#reviews\n",
      "URL https://www.bruinwalk.com/professors/steven-bank/law-230/?page=1#reviews\n",
      "URL https://www.bruinwalk.com/professors/steven-bank/law-238/?page=1#reviews\n",
      "URL https://www.bruinwalk.com/professors/steven-bank/law-291/?page=1#reviews\n",
      "URL https://www.bruinwalk.com/professors/steven-bank/law-432/?page=1#reviews\n",
      "URL https://www.bruinwalk.com/professors/steven-bank/law-561a/?page=1#reviews\n",
      "URL https://www.bruinwalk.com/professors/steven-bank/law-561b/?page=1#reviews\n",
      "Steven Bensinger https://www.bruinwalk.com/professors/steven-bensinger/\n",
      "URL https://www.bruinwalk.com/professors/steven-bensinger/mimg-180a/?page=1#reviews\n",
      "URL https://www.bruinwalk.com/professors/steven-bensinger/mimg-180b/?page=1#reviews\n",
      "URL https://www.bruinwalk.com/professors/steven-bensinger/mimg-196a/?page=1#reviews\n",
      "URL https://www.bruinwalk.com/professors/steven-bensinger/mimg-196b/?page=1#reviews\n",
      "URL https://www.bruinwalk.com/professors/steven-bensinger/mimg-199/?page=1#reviews\n",
      "Matthew Bigio Luks https://www.bruinwalk.com/professors/matthew-bigio-luks/\n",
      "URL https://www.bruinwalk.com/professors/matthew-bigio-luks/econ-164/?page=1#reviews\n",
      "URL https://www.bruinwalk.com/professors/matthew-bigio-luks/econ-164l/?page=1#reviews\n",
      "URL https://www.bruinwalk.com/professors/matthew-bigio-luks/econ-221c/?page=1#reviews\n",
      "URL https://www.bruinwalk.com/professors/matthew-bigio-luks/econ-228b/?page=1#reviews\n",
      "URL https://www.bruinwalk.com/professors/matthew-bigio-luks/econ-228c/?page=1#reviews\n",
      "URL https://www.bruinwalk.com/professors/matthew-bigio-luks/econ-229b/?page=1#reviews\n",
      "URL https://www.bruinwalk.com/professors/matthew-bigio-luks/econ-229c/?page=1#reviews\n",
      "Stephanie Bosch https://www.bruinwalk.com/professors/stephanie-bosch/\n",
      "URL https://www.bruinwalk.com/professors/stephanie-bosch/com-lit-2dw/?page=1#reviews\n",
      "URL https://www.bruinwalk.com/professors/stephanie-bosch/com-lit-100-1/?page=1#reviews\n",
      "URL https://www.bruinwalk.com/professors/stephanie-bosch/com-lit-169/?page=1#reviews\n",
      "URL https://www.bruinwalk.com/professors/stephanie-bosch/com-lit-191-5/?page=1#reviews\n",
      "URL https://www.bruinwalk.com/professors/stephanie-bosch/com-lit-290-7/?page=1#reviews\n",
      "URL https://www.bruinwalk.com/professors/stephanie-bosch/com-lit-375/?page=1#reviews\n",
      "Stephanie Bosch Santana https://www.bruinwalk.com/professors/stephanie-bosch-santana/\n",
      "URL https://www.bruinwalk.com/professors/stephanie-bosch-santana/com-lit-2dw/?page=1#reviews\n",
      "URL https://www.bruinwalk.com/professors/stephanie-bosch-santana/com-lit-100-1/?page=1#reviews\n",
      "URL https://www.bruinwalk.com/professors/stephanie-bosch-santana/com-lit-100/?page=1#reviews\n",
      "URL https://www.bruinwalk.com/professors/stephanie-bosch-santana/com-lit-290-1/?page=1#reviews\n",
      "Linda Demer https://www.bruinwalk.com/professors/linda-demer/\n",
      "URL https://www.bruinwalk.com/professors/linda-demer/dis-std-m139/?page=1#reviews\n",
      "URL https://www.bruinwalk.com/professors/linda-demer/psych-m139/?page=1#reviews\n",
      "Barbara Demman https://www.bruinwalk.com/professors/barbara-demman/\n",
      "URL https://www.bruinwalk.com/professors/barbara-demman/nursing-162a/?page=1#reviews\n"
     ]
    },
    {
     "name": "stdout",
     "output_type": "stream",
     "text": [
      "URL https://www.bruinwalk.com/professors/barbara-demman/nursing-162b/?page=1#reviews\n",
      "URL https://www.bruinwalk.com/professors/barbara-demman/nursing-162c/?page=1#reviews\n",
      "URL https://www.bruinwalk.com/professors/barbara-demman/nursing-174/?page=1#reviews\n",
      "URL https://www.bruinwalk.com/professors/barbara-demman/nursing-465a/?page=1#reviews\n",
      "URL https://www.bruinwalk.com/professors/barbara-demman/nursing-465b/?page=1#reviews\n"
     ]
    }
   ],
   "source": [
    "# get first n prof_names\n",
    "n=20\n",
    "# loop pages\n",
    "for i in range(1,20): \n",
    "    profs_URL = 'https://www.bruinwalk.com/search/?category=professors&page=' + str(i)\n",
    "    page = requests.get(profs_URL)\n",
    "    soup = BeautifulSoup(page.content, \"html.parser\")\n",
    "    \n",
    "    # loop through profs\n",
    "    prof_divs = soup.find(\"div\",class_=\"results\").select('div.professor-result.hide-for-small-only')\n",
    "    for div in prof_divs[:2]:\n",
    "        prof_name = div.find_all('a')[1].text\n",
    "        prof_URL = 'https://www.bruinwalk.com' + div.find_all('a')[1]['href']\n",
    "        print(prof_name, prof_URL)\n",
    "        \n",
    "        # loop and scrape classes\n",
    "        page = requests.get(prof_URL)\n",
    "        soup = BeautifulSoup(page.content, \"html.parser\")\n",
    "        class_rows = soup.find_all('tr')\n",
    "        for cls in class_rows[1:]:\n",
    "                class_URLs = cls.find_all('a')\n",
    "                if class_URLs:\n",
    "                    class_URL = 'https://www.bruinwalk.com' + class_URLs[0]['href']\n",
    "                    scrape_class(class_URL)\n",
    "file.close()"
   ]
  },
  {
   "cell_type": "code",
   "execution_count": null,
   "metadata": {},
   "outputs": [],
   "source": []
  }
 ],
 "metadata": {
  "colab": {
   "collapsed_sections": [],
   "name": "Prof_Review_Scrape.ipynb",
   "provenance": []
  },
  "kernelspec": {
   "display_name": "Python 3",
   "language": "python",
   "name": "python3"
  },
  "language_info": {
   "codemirror_mode": {
    "name": "ipython",
    "version": 3
   },
   "file_extension": ".py",
   "mimetype": "text/x-python",
   "name": "python",
   "nbconvert_exporter": "python",
   "pygments_lexer": "ipython3",
   "version": "3.8.8"
  }
 },
 "nbformat": 4,
 "nbformat_minor": 1
}
